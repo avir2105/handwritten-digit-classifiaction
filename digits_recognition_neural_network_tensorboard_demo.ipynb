{
 "cells": [
  {
   "cell_type": "markdown",
   "metadata": {},
   "source": [
    "<h2 style=\"color:blue\" align=\"center\">Tensorboard demo using handwritten digits classification using neural network</h2>"
   ]
  },
  {
   "cell_type": "markdown",
   "metadata": {},
   "source": [
    "In this notebook we will classify handwritten digits using a simple neural network which has only input and output layers. We will than add a hidden layer and see how the performance of the model improves"
   ]
  },
  {
   "cell_type": "code",
   "execution_count": 1,
   "metadata": {},
   "outputs": [],
   "source": [
    "import tensorflow as tf\n",
    "from tensorflow import keras\n",
    "import matplotlib.pyplot as plt\n",
    "%matplotlib inline\n",
    "import numpy as np"
   ]
  },
  {
   "cell_type": "code",
   "execution_count": 2,
   "metadata": {},
   "outputs": [],
   "source": [
    "(X_train, y_train) , (X_test, y_test) = keras.datasets.mnist.load_data()"
   ]
  },
  {
   "cell_type": "code",
   "execution_count": 14,
   "metadata": {},
   "outputs": [
    {
     "data": {
      "text/plain": [
       "60000"
      ]
     },
     "execution_count": 14,
     "metadata": {},
     "output_type": "execute_result"
    }
   ],
   "source": [
    "len(X_train)"
   ]
  },
  {
   "cell_type": "code",
   "execution_count": 15,
   "metadata": {},
   "outputs": [
    {
     "data": {
      "text/plain": [
       "10000"
      ]
     },
     "execution_count": 15,
     "metadata": {},
     "output_type": "execute_result"
    }
   ],
   "source": [
    "len(X_test)"
   ]
  },
  {
   "cell_type": "code",
   "execution_count": 16,
   "metadata": {},
   "outputs": [
    {
     "data": {
      "text/plain": [
       "(28, 28)"
      ]
     },
     "execution_count": 16,
     "metadata": {},
     "output_type": "execute_result"
    }
   ],
   "source": [
    "X_train[0].shape"
   ]
  },
  {
   "cell_type": "code",
   "execution_count": 17,
   "metadata": {},
   "outputs": [
    {
     "data": {
      "text/plain": [
       "<matplotlib.image.AxesImage at 0x20675bec5e0>"
      ]
     },
     "execution_count": 17,
     "metadata": {},
     "output_type": "execute_result"
    },
    {
     "data": {
      "image/png": "[encoded data removed]",
      "text/plain": [
       "<Figure size 480x480 with 1 Axes>"
      ]
     },
     "metadata": {},
     "output_type": "display_data"
    }
   ],
   "source": [
    "plt.matshow(X_train[0])"
   ]
  },
  {
   "cell_type": "code",
   "execution_count": 18,
   "metadata": {},
   "outputs": [
    {
     "data": {
      "text/plain": [
       "5"
      ]
     },
     "execution_count": 18,
     "metadata": {},
     "output_type": "execute_result"
    }
   ],
   "source": [
    "y_train[0]"
   ]
  },
  {
   "cell_type": "code",
   "execution_count": 19,
   "metadata": {},
   "outputs": [],
   "source": [
    "X_train = X_train / 255\n",
    "X_test = X_test / 255"
   ]
  },
  {
   "cell_type": "code",
   "execution_count": 20,
   "metadata": {},
   "outputs": [],
   "source": [
    "X_train_flattened = X_train.reshape(len(X_train), 28*28)\n",
    "X_test_flattened = X_test.reshape(len(X_test), 28*28)"
   ]
  },
  {
   "cell_type": "code",
   "execution_count": 21,
   "metadata": {},
   "outputs": [
    {
     "data": {
      "text/plain": [
       "(60000, 784)"
      ]
     },
     "execution_count": 21,
     "metadata": {},
     "output_type": "execute_result"
    }
   ],
   "source": [
    "X_train_flattened.shape"
   ]
  },
  {
   "cell_type": "markdown",
   "metadata": {},
   "source": [
    "<h3 style='color:purple'>Using Flatten layer so that we don't have to call .reshape on input dataset</h3>"
   ]
  },
  {
   "cell_type": "code",
   "execution_count": 22,
   "metadata": {
    "scrolled": false
   },
   "outputs": [
    {
     "name": "stdout",
     "output_type": "stream",
     "text": [
      "Epoch 1/5\n",
      "1875/1875 [==============================] - 13s 6ms/step - loss: 1.2635 - accuracy: 0.6890\n",
      "Epoch 2/5\n",
      "1875/1875 [==============================] - 11s 6ms/step - loss: 0.5416 - accuracy: 0.8607\n",
      "Epoch 3/5\n",
      "1875/1875 [==============================] - 11s 6ms/step - loss: 0.4094 - accuracy: 0.8889\n",
      "Epoch 4/5\n",
      "1875/1875 [==============================] - 11s 6ms/step - loss: 0.3583 - accuracy: 0.8998\n",
      "Epoch 5/5\n",
      "1875/1875 [==============================] - 11s 6ms/step - loss: 0.3307 - accuracy: 0.9062\n"
     ]
    },
    {
     "data": {
      "text/plain": [
       "<keras.callbacks.History at 0x20675ba5630>"
      ]
     },
     "execution_count": 22,
     "metadata": {},
     "output_type": "execute_result"
    }
   ],
   "source": [
    "model = keras.Sequential([\n",
    "    keras.layers.Flatten(input_shape=(28, 28)),\n",
    "    keras.layers.Dense(100, activation='relu'),\n",
    "    keras.layers.Dense(10, activation='sigmoid')\n",
    "])\n",
    "\n",
    "model.compile(optimizer='adam',\n",
    "              loss='sparse_categorical_crossentropy',\n",
    "              metrics=['accuracy'])\n",
    "\n",
    "tb_callback = tf.keras.callbacks.TensorBoard(log_dir=\"logs/\", histogram_freq=1)\n",
    "\n",
    "model.fit(X_train, y_train, epochs=5, callbacks=[tb_callback])"
   ]
  },
  {
   "cell_type": "code",
   "execution_count": 23,
   "metadata": {},
   "outputs": [],
   "source": [
    "# %load_ext tensorboard\n",
    "# %tensorboard --logdir logs/fit"
   ]
  },
  {
   "cell_type": "markdown",
   "metadata": {},
   "source": [
    "Either run above inline magic or go to git bash or your command prompt and type below to run it,\n",
    "`tensorboard --logdir logs/`\n",
    "This will launch tensorboard at this url which you can open in your browser `http://localhost:6006/`"
   ]
  },
  {
   "cell_type": "code",
   "execution_count": 24,
   "metadata": {},
   "outputs": [
    {
     "data": {
      "text/plain": [
       "[array([[ 0.07665901,  0.0426061 ,  0.07704775, ..., -0.08165587,\n",
       "         -0.05128594, -0.03468068],\n",
       "        [-0.04877211,  0.06467952,  0.07669196, ...,  0.00971626,\n",
       "         -0.04248777, -0.07677034],\n",
       "        [ 0.03072032,  0.02785686, -0.04445229, ...,  0.04616687,\n",
       "          0.00867106, -0.05345874],\n",
       "        ...,\n",
       "        [-0.00538634,  0.02758253,  0.07383309, ..., -0.02756879,\n",
       "         -0.00750885, -0.07983985],\n",
       "        [-0.01089045,  0.04170059, -0.07195412, ...,  0.02346633,\n",
       "         -0.06308921, -0.01283377],\n",
       "        [-0.07872643,  0.06232402, -0.04585042, ..., -0.00768486,\n",
       "          0.08034168, -0.05997756]], dtype=float32),\n",
       " array([ 0.27633622, -0.00879295,  0.17301041, -0.00965752, -0.00843566,\n",
       "         0.11570058, -0.00809635, -0.00800899,  0.06156439, -0.00824022,\n",
       "        -0.0085952 ,  0.03946523,  0.20849922, -0.00600228,  0.10989314,\n",
       "        -0.0031636 ,  0.07140852,  0.09990148,  0.276203  ,  0.0764623 ,\n",
       "         0.11971296, -0.00948273, -0.00591655,  0.12255673, -0.00412414,\n",
       "         0.26929125,  0.13351865,  0.23365153,  0.24441135,  0.04168676,\n",
       "         0.2534632 ,  0.08838157,  0.3483059 ,  0.11928821,  0.24149741,\n",
       "        -0.00389328,  0.01737677,  0.21332493,  0.07134659,  0.2459986 ,\n",
       "        -0.01096405,  0.1273499 ,  0.07819925, -0.00758965,  0.10359783,\n",
       "        -0.00491316,  0.1655963 ,  0.14605232,  0.15394613,  0.08014805,\n",
       "        -0.00625721,  0.09175746, -0.00846221,  0.15713899, -0.00943272,\n",
       "         0.17973009, -0.00798191,  0.26539904,  0.10905199, -0.00723863,\n",
       "         0.22960596,  0.29451275, -0.00561308, -0.00594421, -0.00756693,\n",
       "        -0.00764809,  0.11336025, -0.00561069, -0.00474206, -0.00615794,\n",
       "        -0.00576317,  0.12864044,  0.0344744 ,  0.29022488,  0.04327308,\n",
       "         0.14493144,  0.20984197, -0.01020198, -0.00887195,  0.06292263,\n",
       "        -0.00904526,  0.17229633,  0.22690177,  0.12665077, -0.00820458,\n",
       "         0.22267753,  0.16209145, -0.00713859, -0.00479129,  0.12635659,\n",
       "        -0.00915531,  0.08529868,  0.03800398,  0.18255745, -0.01011798,\n",
       "         0.21297027,  0.00294505, -0.00932179, -0.00840297,  0.16994499],\n",
       "       dtype=float32),\n",
       " array([[-2.59671301e-01,  1.80887091e+00,  1.60819018e+00,\n",
       "         -2.69352078e+00, -7.20913529e-01,  5.40605307e-01,\n",
       "         -7.06423759e-01,  2.00648022e+00, -1.39522541e+00,\n",
       "         -1.72302830e+00],\n",
       "        [ 2.35911012e-01,  7.40468577e-02,  3.47356163e-02,\n",
       "          1.08846530e-01,  7.82077014e-02,  6.20890260e-02,\n",
       "         -1.01562385e-02,  1.67316198e-01,  2.04448372e-01,\n",
       "          4.74528410e-02],\n",
       "        [ 6.88507378e-01,  1.29086888e+00,  1.59328973e+00,\n",
       "          2.19771490e-01, -2.92052221e+00,  6.59279346e-01,\n",
       "         -2.04133630e+00, -1.31591964e+00,  2.52424836e-01,\n",
       "         -1.83584630e+00],\n",
       "        [-8.78857896e-02, -1.88519120e-01, -9.65281427e-02,\n",
       "         -4.62437123e-02,  1.18548557e-01, -4.94819582e-02,\n",
       "          9.51729529e-03,  1.06908873e-01,  9.75547135e-02,\n",
       "          4.22720313e-02],\n",
       "        [ 1.71146572e-01,  2.10701898e-01,  2.21271127e-01,\n",
       "          8.45591798e-02,  7.15921670e-02,  1.00630932e-01,\n",
       "          2.04010189e-01,  1.69935107e-01,  2.20200375e-01,\n",
       "          4.83614951e-03],\n",
       "        [ 8.83618772e-01, -2.78982377e+00,  6.17726207e-01,\n",
       "         -1.67781484e+00,  5.28458655e-01, -9.42062438e-01,\n",
       "          4.53661233e-01,  3.00228953e-01,  2.58855909e-01,\n",
       "          8.42612207e-01],\n",
       "        [-2.03372121e-01, -1.81885988e-01, -5.08715436e-02,\n",
       "          1.47028685e-01, -2.15567961e-01,  1.08294979e-01,\n",
       "         -4.93611842e-02,  1.12055726e-01, -1.71158195e-01,\n",
       "          1.31720781e-01],\n",
       "        [ 1.57031119e-01,  9.22704209e-03,  1.06541090e-01,\n",
       "          1.34258047e-01, -4.87442575e-02, -1.79059580e-01,\n",
       "          2.25214642e-02, -2.05505952e-01, -1.56531096e-01,\n",
       "          5.72151691e-02],\n",
       "        [ 1.17929292e+00, -1.14055991e+00,  4.80665267e-01,\n",
       "          2.80639142e-01, -2.85086083e+00,  4.10873026e-01,\n",
       "          8.96805942e-01, -1.72995162e+00,  1.20593989e+00,\n",
       "         -1.59794748e+00],\n",
       "        [-2.92933993e-02, -1.07438518e-02,  1.34799957e-01,\n",
       "         -2.00407170e-02,  6.17224462e-02,  7.27423206e-02,\n",
       "          9.18688700e-02,  6.62930757e-02, -1.61090225e-01,\n",
       "         -2.03555018e-01],\n",
       "        [ 6.97946101e-02,  1.47579806e-02, -2.14352738e-02,\n",
       "         -5.29522374e-02,  1.09971978e-01, -1.68486059e-01,\n",
       "          3.44432355e-03,  5.93907833e-02,  1.75621510e-01,\n",
       "         -8.06664452e-02],\n",
       "        [ 2.57329017e-01, -1.71421874e+00, -1.25509262e+00,\n",
       "         -1.68633342e+00,  1.09289539e+00,  6.05670452e-01,\n",
       "          1.58351302e+00, -3.11720157e+00,  1.43101871e+00,\n",
       "          5.19928634e-01],\n",
       "        [-1.90332472e+00,  1.05467129e+00,  1.18148685e+00,\n",
       "          1.09207892e+00,  1.36543536e+00, -1.92666411e+00,\n",
       "          1.07766581e+00, -1.61062038e+00, -1.51888514e+00,\n",
       "         -1.21101582e+00],\n",
       "        [ 1.52145237e-01,  2.18623042e-01,  1.17232546e-01,\n",
       "          2.13156775e-01,  7.80784860e-02,  1.08435512e-01,\n",
       "          1.31647408e-01,  3.87423858e-02,  9.08542052e-02,\n",
       "          1.45402476e-01],\n",
       "        [-2.33680201e+00,  4.31445062e-01, -1.04692042e+00,\n",
       "         -2.64253616e+00,  4.38802093e-01,  2.30289847e-01,\n",
       "         -9.03160989e-01, -6.02464080e-01,  1.57353318e+00,\n",
       "          1.33590996e+00],\n",
       "        [ 2.35810518e-01, -8.50228816e-02,  4.37294990e-02,\n",
       "          2.26717100e-01, -1.94387555e-01, -2.04313055e-01,\n",
       "         -3.18949893e-02, -3.43305841e-02,  1.09052975e-02,\n",
       "         -1.07406482e-01],\n",
       "        [-3.34380448e-01, -7.66479850e-01,  1.04690742e+00,\n",
       "          1.05417812e+00, -8.27133775e-01, -2.00279161e-01,\n",
       "          7.00800419e-01, -2.64460897e+00,  9.21552420e-01,\n",
       "         -1.18581343e+00],\n",
       "        [ 9.94318306e-01, -3.03048491e+00,  1.91545501e-01,\n",
       "         -9.73680019e-01,  1.27958044e-01, -3.79360288e-01,\n",
       "          5.24661124e-01,  1.49320289e-01,  4.19308513e-01,\n",
       "          7.31965482e-01],\n",
       "        [ 1.30270481e+00, -2.75823522e+00, -7.37696588e-01,\n",
       "          6.13934398e-02,  3.72449309e-01,  1.08607076e-01,\n",
       "         -1.52050269e+00,  1.60323989e+00, -1.45453596e+00,\n",
       "          3.50138247e-01],\n",
       "        [-3.58871445e-02,  1.82518542e-01, -3.35046172e-01,\n",
       "          9.54692185e-01, -2.49030328e+00,  9.00017619e-01,\n",
       "          9.43807423e-01, -2.45753264e+00,  8.71132791e-01,\n",
       "         -1.70139802e+00],\n",
       "        [ 8.35391104e-01, -1.03422010e+00,  5.78679025e-01,\n",
       "         -1.43216753e+00,  9.58505988e-01,  9.71665621e-01,\n",
       "          8.72905612e-01, -2.98520732e+00,  8.99337411e-01,\n",
       "         -9.53372180e-01],\n",
       "        [-7.31390938e-02,  2.02945545e-01,  1.82499498e-01,\n",
       "         -1.19799748e-01,  3.04242503e-02,  1.24575078e-01,\n",
       "         -1.66389048e-01, -1.96931139e-01,  1.43822163e-01,\n",
       "         -2.27034420e-01],\n",
       "        [ 5.66741079e-02, -1.56620637e-01,  9.57739577e-02,\n",
       "          1.55537352e-01, -1.13689326e-01,  8.48838687e-02,\n",
       "         -1.70412228e-01, -6.89137205e-02, -6.31790422e-03,\n",
       "         -9.54638645e-02],\n",
       "        [-1.66479170e+00,  1.29833233e+00, -8.94071102e-01,\n",
       "         -1.60400462e+00, -7.37384200e-01, -1.62113547e+00,\n",
       "         -1.65591145e+00,  9.79156733e-01,  9.64486599e-01,\n",
       "          1.55742013e+00],\n",
       "        [-7.78524727e-02,  1.43967599e-01,  9.74035785e-02,\n",
       "          1.98911056e-01,  1.62439138e-01,  1.87883288e-01,\n",
       "         -2.09997624e-01, -1.44931957e-01,  8.33338965e-03,\n",
       "         -1.13728516e-01],\n",
       "        [ 1.89133704e+00,  1.13261831e+00, -1.99074447e+00,\n",
       "          1.22466457e+00, -1.83687770e+00,  1.22648728e+00,\n",
       "         -1.48555577e+00,  1.21413743e+00, -1.06811929e+00,\n",
       "         -1.67869914e+00],\n",
       "        [-1.75122416e+00,  1.69739568e+00, -2.42948985e+00,\n",
       "          1.22953080e-01,  1.63176000e+00,  1.00877643e+00,\n",
       "         -1.12453115e+00, -2.14118457e+00,  1.43917310e+00,\n",
       "         -1.41541755e+00],\n",
       "        [ 7.35225856e-01, -1.55383754e+00, -1.59707642e+00,\n",
       "         -2.14949727e+00,  8.22250187e-01,  1.65365255e+00,\n",
       "          1.51458955e+00, -1.20728695e+00, -1.16230750e+00,\n",
       "          1.77892610e-01],\n",
       "        [ 7.07077384e-01, -1.90968764e+00, -1.95592844e+00,\n",
       "         -1.18519258e+00,  1.27193534e+00,  8.19569886e-01,\n",
       "          1.47230089e+00, -6.44620180e-01, -1.25251365e+00,\n",
       "          5.14399052e-01],\n",
       "        [ 1.63929379e+00, -1.49979591e+00,  2.15073541e-01,\n",
       "          1.08616698e+00, -1.73367548e+00,  3.27085853e-01,\n",
       "         -2.57440805e+00, -1.15466046e+00,  5.91895938e-01,\n",
       "          1.16669364e-01],\n",
       "        [ 1.29825401e+00,  1.33327532e+00,  1.42418718e+00,\n",
       "         -6.83204353e-01, -2.13148642e+00, -9.44145620e-01,\n",
       "          1.40972030e+00, -8.56086314e-01, -1.43362558e+00,\n",
       "         -1.53265429e+00],\n",
       "        [-1.29926813e+00,  1.41725111e+00,  4.22412127e-01,\n",
       "         -1.20627308e+00, -1.00655997e+00, -3.51454973e-01,\n",
       "          9.56394374e-01, -1.87729585e+00,  1.80261290e+00,\n",
       "         -2.42129135e+00],\n",
       "        [-1.27531052e-01, -2.04668656e-01, -1.86842370e+00,\n",
       "         -1.91168654e+00, -1.99276403e-01, -2.42605329e-01,\n",
       "          1.16710210e+00,  1.79088032e+00, -7.49897003e-01,\n",
       "          2.43479669e-01],\n",
       "        [ 1.06447124e+00, -3.18415523e+00, -1.28509831e+00,\n",
       "          8.85940671e-01,  2.31851295e-01, -2.42815420e-01,\n",
       "         -1.77585125e+00,  8.14719915e-01, -2.75880277e-01,\n",
       "          1.07457161e+00],\n",
       "        [-1.70701730e+00,  1.47013032e+00, -1.08103466e+00,\n",
       "          9.19030964e-01, -3.55406404e-01,  4.36375409e-01,\n",
       "         -1.68467414e+00,  1.50130641e+00, -7.86471188e-01,\n",
       "         -1.25464761e+00],\n",
       "        [ 1.45791814e-01, -3.05913724e-02,  4.65026274e-02,\n",
       "         -2.28577808e-01, -2.10345507e-01,  1.93122067e-02,\n",
       "          5.03544994e-02,  1.69835702e-01, -8.79939552e-03,\n",
       "          1.66905627e-01],\n",
       "        [-2.88704300e+00,  1.29454625e+00,  1.11088908e+00,\n",
       "          9.71532881e-01, -8.19545925e-01, -6.81434691e-01,\n",
       "         -7.27070495e-03,  8.89884382e-02,  9.11661029e-01,\n",
       "         -2.66170812e+00],\n",
       "        [-1.04307914e+00,  1.03893387e+00, -1.40120482e+00,\n",
       "         -1.79806614e+00,  1.16180313e+00, -1.22135961e+00,\n",
       "          1.60604966e+00,  1.32169390e+00, -1.25998771e+00,\n",
       "          2.43123591e-01],\n",
       "        [ 1.07693815e+00,  1.21519700e-01, -2.87129998e+00,\n",
       "          6.96048021e-01, -1.87661815e+00,  1.44339120e+00,\n",
       "         -9.06201184e-01, -1.92261779e+00,  5.99062681e-01,\n",
       "          7.67913878e-01],\n",
       "        [-2.21767592e+00,  7.11113453e-01, -2.37180972e+00,\n",
       "         -9.73912597e-01,  1.24459350e+00,  9.25178409e-01,\n",
       "         -1.18616259e+00,  7.19289303e-01, -1.27794042e-01,\n",
       "          6.81648791e-01],\n",
       "        [-1.65242776e-01,  1.72625512e-01, -1.16361111e-01,\n",
       "          3.14888805e-02, -5.40246479e-02,  1.09934367e-01,\n",
       "          1.36615694e-01, -2.14927673e-01,  4.66884449e-02,\n",
       "         -4.92564701e-02],\n",
       "        [ 9.95878518e-01, -2.83507395e+00, -3.00771385e-01,\n",
       "         -2.00253463e+00,  6.31696463e-01,  2.82635123e-01,\n",
       "          6.48836792e-01, -3.10565352e-01, -3.91718358e-01,\n",
       "          8.56267035e-01],\n",
       "        [ 9.77573335e-01, -1.06966865e+00,  7.13761270e-01,\n",
       "         -3.23310304e+00, -2.73530502e-02,  6.54568255e-01,\n",
       "          9.92283702e-01, -1.79200697e+00,  1.78032672e+00,\n",
       "         -1.07721925e+00],\n",
       "        [ 1.73759729e-01,  1.14707045e-01,  9.46195871e-02,\n",
       "         -5.90072758e-02,  1.72620326e-01,  2.26533636e-01,\n",
       "         -2.05381051e-01,  2.07370698e-01, -1.86601907e-01,\n",
       "         -2.12798547e-02],\n",
       "        [-2.06974769e+00,  6.20030642e-01, -1.45167470e+00,\n",
       "         -1.12456238e+00,  1.02599680e+00,  9.67228055e-01,\n",
       "         -3.23672557e+00,  6.86539531e-01,  1.19091558e+00,\n",
       "          7.41416752e-01],\n",
       "        [ 2.53865849e-02, -8.23547393e-02, -1.02897044e-02,\n",
       "         -1.54855490e-01, -1.52404800e-01,  1.15270734e-01,\n",
       "         -2.77172681e-02, -2.00569734e-01, -5.27575687e-02,\n",
       "         -2.13748738e-01],\n",
       "        [-2.10098863e+00,  4.67413962e-01,  2.07756795e-02,\n",
       "         -9.22434688e-01,  9.70099151e-01, -2.19220304e+00,\n",
       "          1.18945563e+00,  6.36201426e-02,  5.21002531e-01,\n",
       "          6.39684319e-01],\n",
       "        [ 1.32679808e+00, -1.37159097e+00,  8.69624376e-01,\n",
       "          3.14069033e-01, -2.25070882e+00,  1.10374844e+00,\n",
       "          1.02449179e+00, -1.41525257e+00, -9.21310663e-01,\n",
       "         -1.58759522e+00],\n",
       "        [-2.39013362e+00, -6.28763914e-01,  1.01669002e+00,\n",
       "          2.27082878e-01,  1.46092606e+00, -2.93893248e-01,\n",
       "         -2.74214435e+00,  1.11082983e+00, -1.45572811e-01,\n",
       "         -1.09898791e-01],\n",
       "        [ 1.54099858e+00, -1.87686193e+00, -3.95634443e-01,\n",
       "          7.35432506e-01, -2.77896142e+00,  1.44631553e+00,\n",
       "         -2.24370432e+00,  2.13122651e-01,  1.66946992e-01,\n",
       "         -6.79471433e-01],\n",
       "        [ 3.63030024e-02,  1.52658448e-01,  1.88588157e-01,\n",
       "          2.16831595e-01,  1.70000136e-01,  1.88053071e-01,\n",
       "          2.10126325e-01, -1.91582665e-01,  2.27352485e-01,\n",
       "         -2.62691658e-02],\n",
       "        [-1.36849701e+00, -3.01961422e+00, -4.22639996e-01,\n",
       "          1.33968592e-01,  7.22265005e-01, -8.38303924e-01,\n",
       "         -3.23548508e+00,  1.09930313e+00, -3.30050200e-01,\n",
       "          1.61799538e+00],\n",
       "        [-1.33000631e-02, -2.19812155e-01, -2.30583221e-01,\n",
       "         -1.62084535e-01, -1.39474571e-01, -1.81847647e-01,\n",
       "         -8.89311954e-02, -1.03907220e-01, -2.04684183e-01,\n",
       "         -2.42973231e-02],\n",
       "        [ 1.68371105e+00, -2.49408054e+00, -1.05259466e+00,\n",
       "         -5.17963111e-01,  4.72024024e-01, -3.98635387e-01,\n",
       "         -2.50246572e+00,  1.61098111e+00,  1.09147809e-01,\n",
       "          8.40438962e-01],\n",
       "        [ 3.06398068e-02,  3.07513941e-02, -6.53957576e-02,\n",
       "          9.90117621e-03, -1.91897020e-01,  1.89124286e-01,\n",
       "          1.67432889e-01,  1.32657766e-01, -3.54721211e-02,\n",
       "         -9.61227417e-02],\n",
       "        [-2.29415321e+00,  1.42851913e+00, -1.85292804e+00,\n",
       "          4.27658945e-01, -1.29622293e+00,  1.14157879e+00,\n",
       "         -6.74132884e-01,  3.51603150e-01, -6.21978007e-02,\n",
       "          5.50609410e-01],\n",
       "        [-7.05009103e-02, -4.24961932e-03, -2.67273560e-02,\n",
       "         -1.87363267e-01, -6.01330623e-02, -1.78347617e-01,\n",
       "          2.02833995e-01,  3.73705812e-02, -1.89050078e-01,\n",
       "         -1.40419602e-01],\n",
       "        [-3.02970266e+00,  1.22055268e+00, -1.07449555e+00,\n",
       "          5.46106458e-01,  1.22902918e+00,  6.20776296e-01,\n",
       "          9.89355505e-01, -1.35846734e-01, -4.27671164e-01,\n",
       "         -4.47355777e-01],\n",
       "        [-1.40184975e+00,  2.98554093e-01, -2.41453695e+00,\n",
       "          8.70177567e-01,  1.80283450e-02, -5.39427288e-02,\n",
       "         -2.16562629e+00,  4.26444381e-01,  2.38101020e-01,\n",
       "          1.21284640e+00],\n",
       "        [-2.00777471e-01, -8.97240564e-02, -2.35481888e-01,\n",
       "         -6.74659535e-02, -7.87139386e-02,  9.89726856e-02,\n",
       "          2.02646792e-01, -1.47576496e-01,  1.98417410e-01,\n",
       "         -2.48934589e-02],\n",
       "        [-1.87508261e+00,  6.50544524e-01,  6.56184137e-01,\n",
       "          3.55042696e-01,  7.20716417e-01, -1.58121812e+00,\n",
       "          4.28915441e-01,  1.24059761e+00, -1.69821918e+00,\n",
       "          5.25760293e-01],\n",
       "        [-7.70942390e-01,  1.36180139e+00,  1.19381046e+00,\n",
       "          5.30929983e-01,  1.85372949e-01, -7.33811021e-01,\n",
       "          8.34852993e-01, -2.50866461e+00, -9.21245694e-01,\n",
       "         -2.73505390e-01],\n",
       "        [ 1.69240654e-01, -2.22563937e-01,  4.91346531e-02,\n",
       "         -1.87287137e-01,  1.77815065e-01,  3.47232521e-02,\n",
       "          5.85163236e-02,  1.54585749e-01,  9.18957517e-02,\n",
       "         -1.23164495e-02],\n",
       "        [ 2.02372625e-01, -1.45401850e-01,  2.49153413e-02,\n",
       "          5.50136641e-02,  2.08031967e-01,  1.88886467e-02,\n",
       "          2.26137236e-01,  3.28850225e-02,  8.37885812e-02,\n",
       "         -5.15568592e-02],\n",
       "        [ 7.83184767e-02,  2.14901030e-01,  9.25006121e-02,\n",
       "         -5.97240590e-02, -1.08373225e-01,  1.61581814e-01,\n",
       "         -1.00468419e-01, -1.24969319e-01,  1.18068084e-01,\n",
       "          7.38191307e-02],\n",
       "        [ 2.22802490e-01, -1.53456450e-01, -1.31254181e-01,\n",
       "         -9.24756154e-02,  4.09842543e-02,  1.36718795e-01,\n",
       "          1.71281993e-01, -9.51712132e-02,  1.04597375e-01,\n",
       "          3.51583511e-02],\n",
       "        [ 1.20253360e+00, -2.24421287e+00,  8.14058006e-01,\n",
       "          5.31820536e-01,  1.25058746e+00,  2.30337650e-01,\n",
       "          4.22864527e-01, -1.43792903e+00, -3.22438449e-01,\n",
       "         -2.25028038e+00],\n",
       "        [-1.48444161e-01, -1.71954095e-01,  2.14934461e-02,\n",
       "          9.95910019e-02, -1.98295981e-01,  7.97212645e-02,\n",
       "         -1.49857327e-01, -2.05535382e-01,  2.34913260e-01,\n",
       "         -4.02422287e-02],\n",
       "        [-1.19987711e-01, -1.88210472e-01,  2.10095313e-03,\n",
       "         -1.58355683e-01,  1.38883218e-01,  1.18751109e-01,\n",
       "          1.07507326e-01,  1.30134463e-01, -3.22522074e-02,\n",
       "          3.62081192e-02],\n",
       "        [ 1.08555995e-01, -1.62410140e-01, -1.87360480e-01,\n",
       "          1.93764180e-01, -5.54145128e-02, -7.97285438e-02,\n",
       "          6.65031001e-02, -1.57838419e-01, -1.42290533e-01,\n",
       "          9.25958678e-02],\n",
       "        [ 9.73084755e-03, -7.71967769e-02,  1.05292358e-01,\n",
       "         -1.11050054e-01,  2.16843739e-01, -1.81535304e-01,\n",
       "          6.90345168e-02,  1.74070120e-01, -8.66019055e-02,\n",
       "         -2.17724159e-01],\n",
       "        [-1.36385858e+00,  1.14470911e+00,  1.42125893e+00,\n",
       "          7.41629362e-01, -1.57497358e+00, -1.95700395e+00,\n",
       "         -1.49074984e+00, -2.33268738e+00,  1.15440929e+00,\n",
       "          9.41899121e-01],\n",
       "        [-1.36701560e+00,  9.36504304e-02, -7.35994816e-01,\n",
       "          8.05926025e-01, -1.44101417e+00, -1.13520801e+00,\n",
       "         -2.56283689e+00,  8.57112646e-01,  9.13273633e-01,\n",
       "          1.61341357e+00],\n",
       "        [-1.20697498e+00,  1.32571721e+00, -8.28720093e-01,\n",
       "          1.32554829e+00, -2.08236647e+00,  1.09921360e+00,\n",
       "         -1.43251896e+00,  9.35538054e-01, -1.57327700e+00,\n",
       "         -1.62810683e-01],\n",
       "        [-1.50873208e+00,  1.21845089e-01, -3.94603550e-01,\n",
       "          1.38046706e+00, -1.92050600e+00,  4.17658806e-01,\n",
       "          9.81986880e-01, -2.29842663e+00,  1.06152308e+00,\n",
       "         -1.09000349e+00],\n",
       "        [-6.04900360e-01,  6.94638669e-01,  1.54184163e+00,\n",
       "          1.22463548e+00, -3.47558093e+00, -8.13754201e-01,\n",
       "         -2.74480844e+00,  1.28105390e+00, -3.73171508e-01,\n",
       "          1.16473126e+00],\n",
       "        [ 3.76696497e-01, -7.08603442e-01, -7.94368207e-01,\n",
       "         -2.04959303e-01,  1.22774589e+00, -3.48405600e-01,\n",
       "          1.81431484e+00, -5.35841644e-01, -3.27364326e+00,\n",
       "          8.71736884e-01],\n",
       "        [ 5.01286350e-02,  1.66083351e-01,  1.54157043e-01,\n",
       "          1.56913608e-01, -9.37861353e-02,  9.88160968e-02,\n",
       "          4.94985804e-02, -2.09250227e-01,  2.14763433e-01,\n",
       "         -1.42833099e-01],\n",
       "        [-2.22333729e-01, -2.11151615e-01,  7.91276544e-02,\n",
       "          3.34731601e-02,  1.12145483e-01, -2.17183549e-02,\n",
       "          8.45045820e-02,  2.07069412e-01, -1.19061999e-01,\n",
       "          9.57307220e-02],\n",
       "        [ 1.45975232e-01, -2.99948883e+00,  4.94756550e-01,\n",
       "          9.48180556e-01, -1.87897339e-01,  1.12831748e+00,\n",
       "          1.35575021e-02,  9.53726888e-01,  3.55071127e-01,\n",
       "         -2.13938332e+00],\n",
       "        [-1.24759257e-01,  1.00372573e-02, -1.47917539e-01,\n",
       "         -4.89969030e-02,  4.21467051e-02,  3.79167460e-02,\n",
       "          1.77936256e-02, -8.18313099e-03, -1.99250415e-01,\n",
       "         -1.49853557e-01],\n",
       "        [-2.17442489e+00, -5.08464694e-01,  1.08548176e+00,\n",
       "          2.72972971e-01,  1.70451701e+00, -1.68555558e+00,\n",
       "          1.30016112e+00, -2.01869440e+00, -1.38534164e+00,\n",
       "          1.11186612e+00],\n",
       "        [ 8.01842511e-01,  1.20877123e+00,  1.26192522e+00,\n",
       "         -7.84961760e-01, -2.23206925e+00,  5.78480840e-01,\n",
       "          1.31614804e+00, -1.36157751e+00, -7.78298438e-01,\n",
       "         -1.76873505e+00],\n",
       "        [ 1.43026710e+00, -2.73614287e+00,  1.03666115e+00,\n",
       "          7.19802439e-01, -3.82357001e-01, -1.25226545e+00,\n",
       "          2.00617954e-01,  1.54276574e+00, -5.33007443e-01,\n",
       "         -1.00263870e+00],\n",
       "        [-1.00279124e-02,  7.71988183e-02,  1.59461975e-01,\n",
       "         -3.21921706e-02, -1.93960413e-01, -1.03997416e-03,\n",
       "          1.44112900e-01,  1.14206560e-01, -5.92934806e-03,\n",
       "         -1.00497440e-01],\n",
       "        [-1.20527899e+00,  1.22099027e-01,  7.20584989e-01,\n",
       "          1.40931225e+00, -2.45838091e-02,  1.84059843e-01,\n",
       "         -3.30818462e+00,  1.40590739e+00, -7.61069000e-01,\n",
       "         -4.30758089e-01],\n",
       "        [ 1.26845825e+00,  1.08100064e-01,  8.21236253e-01,\n",
       "          1.44628012e+00, -3.99648166e+00, -2.32107833e-01,\n",
       "         -2.67831278e+00,  8.03349197e-01, -2.29266673e-01,\n",
       "         -3.16063762e-01],\n",
       "        [ 1.12549448e-02, -6.96439967e-02,  4.41896208e-02,\n",
       "         -1.67707667e-01,  1.62742779e-01,  1.44284680e-01,\n",
       "          7.62502030e-02,  1.39927149e-01,  8.03863779e-02,\n",
       "          1.29264280e-01],\n",
       "        [ 1.29635006e-01, -1.11791968e-01,  5.18355798e-03,\n",
       "         -2.01012328e-01,  1.74036279e-01, -2.23130658e-01,\n",
       "          4.20969427e-02, -3.83850746e-02,  8.80437642e-02,\n",
       "         -1.19782791e-01],\n",
       "        [-2.08847213e+00, -1.26041338e-01,  3.75328720e-01,\n",
       "         -1.98387492e+00,  5.09176552e-01, -1.51907873e+00,\n",
       "          8.94617915e-01,  4.41769093e-01,  1.01316285e+00,\n",
       "          7.36790836e-01],\n",
       "        [ 2.21441925e-01,  4.48435545e-03,  2.37056956e-01,\n",
       "          1.16025239e-01, -1.45738512e-01, -4.01246734e-02,\n",
       "         -1.56995878e-01,  1.33801222e-01,  1.88825428e-02,\n",
       "          1.09944800e-02],\n",
       "        [ 1.27364385e+00, -2.61815119e+00, -1.26737165e+00,\n",
       "          1.08818948e+00,  5.98544329e-02,  1.19901001e+00,\n",
       "         -1.66806662e+00, -1.31112039e+00,  2.64453515e-02,\n",
       "          4.27079856e-01],\n",
       "        [-2.45402575e+00,  4.95194882e-01, -2.19285583e+00,\n",
       "          1.09497881e+00,  7.46742427e-01,  1.02802515e-01,\n",
       "         -2.17795038e+00, -1.21308580e-01,  7.81986535e-01,\n",
       "          1.20996654e+00],\n",
       "        [ 1.33533919e+00, -2.20708895e+00, -1.13248765e+00,\n",
       "         -1.84495199e+00,  5.56863844e-01,  5.58943808e-01,\n",
       "          1.33935320e+00, -3.98807883e-01, -5.03311038e-01,\n",
       "          1.86592296e-01],\n",
       "        [ 1.90736413e-01,  2.06499949e-01,  1.34675592e-01,\n",
       "          1.19730055e-01, -2.21084133e-01, -2.37551406e-01,\n",
       "         -1.66333631e-01, -1.65497169e-01, -3.25659178e-02,\n",
       "         -1.38081359e-02],\n",
       "        [-1.11263418e+00,  2.93747157e-01,  1.49532962e+00,\n",
       "         -5.87386608e-01,  9.70981568e-02, -2.75783563e+00,\n",
       "          3.89354080e-01,  1.44219720e+00, -1.54987037e-01,\n",
       "         -4.48058903e-01],\n",
       "        [-1.52128422e+00,  4.17771876e-01,  1.13095784e+00,\n",
       "          1.07657063e+00, -2.44108224e+00, -2.99660444e+00,\n",
       "         -9.21825409e-01,  1.36659598e+00,  5.19310057e-01,\n",
       "          6.77930713e-01],\n",
       "        [-6.01284504e-02,  1.82799995e-01,  5.59266731e-02,\n",
       "         -8.81545246e-02, -1.47607028e-01, -4.19819355e-02,\n",
       "          5.39101921e-02,  9.89588276e-02,  5.02223819e-02,\n",
       "          2.83851326e-02],\n",
       "        [ 1.02986407e-03,  7.25696757e-02, -1.14149667e-01,\n",
       "          1.63594171e-01, -7.53897280e-02,  1.55258089e-01,\n",
       "          1.34114981e-01, -2.23499581e-01, -9.21965763e-02,\n",
       "         -1.49047058e-02],\n",
       "        [-1.23667634e+00,  1.22754229e-02,  1.09445763e+00,\n",
       "          2.58040577e-01,  1.78079116e+00,  9.29799199e-01,\n",
       "         -7.02112215e-04, -3.34246683e+00,  2.41112784e-01,\n",
       "         -1.91160142e+00]], dtype=float32),\n",
       " array([ 0.18318656,  0.00625528, -0.02348352, -0.05920598,  0.03681187,\n",
       "         0.03399204, -0.01443215,  0.10844667, -0.19942681, -0.02328585],\n",
       "       dtype=float32)]"
      ]
     },
     "execution_count": 24,
     "metadata": {},
     "output_type": "execute_result"
    }
   ],
   "source": [
    "model.get_weights()"
   ]
  },
  {
   "cell_type": "code",
   "execution_count": null,
   "metadata": {},
   "outputs": [],
   "source": []
  }
 ],
 "metadata": {
  "kernelspec": {
   "display_name": "Python 3 (ipykernel)",
   "language": "python",
   "name": "python3"
  },
  "language_info": {
   "codemirror_mode": {
    "name": "ipython",
    "version": 3
   },
   "file_extension": ".py",
   "mimetype": "text/x-python",
   "name": "python",
   "nbconvert_exporter": "python",
   "pygments_lexer": "ipython3",
   "version": "3.10.2"
  }
 },
 "nbformat": 4,
 "nbformat_minor": 4
}
